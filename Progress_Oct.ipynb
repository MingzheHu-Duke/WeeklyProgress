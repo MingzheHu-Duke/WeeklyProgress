{
  "nbformat": 4,
  "nbformat_minor": 0,
  "metadata": {
    "colab": {
      "provenance": []
    },
    "kernelspec": {
      "name": "python3",
      "display_name": "Python 3"
    },
    "language_info": {
      "name": "python"
    }
  },
  "cells": [
    {
      "cell_type": "markdown",
      "source": [
        "#Book Chapter: Large Foundation Models for Medical Imaging\n",
        "* **Literature Collection and Reading**\n",
        "    * 09/15 - 09/16: Gather foundational literature on large models.\n",
        "    * 09/17 - 09/18: Collect additional papers focusing on medical imaging applications.\n",
        "    * 09/19 - 09/20: Begin reading and summarizing key findings.\n",
        "    * 09/21 - 09/22: Continue reading and highlighting novel methodologies.\n",
        "    * 09/23 - 09/24: Read about the advantages and limitations of large models.\n",
        "    * 09/25 - 09/26: Summarize insights and identify gaps in existing research.\n",
        "    * 09/27 - 09/28: Finalize reading and complete literature notes.\n",
        "    * 09/29 - 09/30: Organize literature review findings.\n",
        "    * 10/01 - 10/02: Finalize literature collection and wrap up reading notes.\n",
        "* **Outline and Initial Draft**\n",
        "    * 10/03 - 10/04: Create a detailed outline for the chapter.\n",
        "    * 10/05 - 10/06: Draft the introduction and background sections.\n",
        "    * 10/07 - 10/08: Start writing the methodology section.\n",
        "    * 10/09 - 10/10: Complete the initial draft of the literature review section.\n",
        "* **Main Content Writing**\n",
        "    * 10/11 - 10/12: Write the section on large model applications in medical imaging.\n",
        "    * 10/13 - 10/14: Discuss the benefits of foundation models.\n",
        "    * 10/15 - 10/16: Highlight limitations and future directions.\n",
        "    * 10/17 - 10/18: Complete the main body content.\n",
        "* **Refining and Editing**\n",
        "    * 10/19 - 10/20: Edit for clarity, coherence, and structure.\n",
        "    * 10/21 - 10/22: Incorporate citations, refine language, and improve readability.\n",
        "* **Final Review and Submission**\n",
        "    * 10/23: Perform a final review, format, and submit the chapter.\n"
      ],
      "metadata": {
        "id": "wPsdPYd7jDf7"
      }
    },
    {
      "cell_type": "code",
      "source": [
        "import plotly.express as px\n",
        "import pandas as pd\n",
        "\n",
        "# 定义任务和时间\n",
        "tasks = [\n",
        "    # 大的任务类别\n",
        "    {\"Task\": \"Literature Collection\", \"Start\": \"2024-09-15\", \"Finish\": \"2024-10-02\", \"Category\": \"Main\"},\n",
        "    {\"Task\": \"Draft\", \"Start\": \"2024-10-03\", \"Finish\": \"2024-10-10\", \"Category\": \"Main\"},\n",
        "    {\"Task\": \"Writing\", \"Start\": \"2024-10-11\", \"Finish\": \"2024-10-18\", \"Category\": \"Main\"},\n",
        "    {\"Task\": \"Editing\", \"Start\": \"2024-10-19\", \"Finish\": \"2024-10-22\", \"Category\": \"Main\"},\n",
        "    {\"Task\": \"Final Review\", \"Start\": \"2024-10-23\", \"Finish\": \"2024-10-23\", \"Category\": \"Main\"},\n",
        "\n",
        "    # 细分任务\n",
        "    {\"Task\": \"Foundation Literature\", \"Start\": \"2024-09-15\", \"Finish\": \"2024-09-16\", \"Category\": \"Subtask\"},\n",
        "    {\"Task\": \"Applications Literature\", \"Start\": \"2024-09-17\", \"Finish\": \"2024-09-18\", \"Category\": \"Subtask\"},\n",
        "    {\"Task\": \"Reading: Key Findings\", \"Start\": \"2024-09-19\", \"Finish\": \"2024-09-20\", \"Category\": \"Subtask\"},\n",
        "    {\"Task\": \"Reading: Novel Methods\", \"Start\": \"2024-09-21\", \"Finish\": \"2024-09-22\", \"Category\": \"Subtask\"},\n",
        "    {\"Task\": \"Summarize Findings\", \"Start\": \"2024-09-23\", \"Finish\": \"2024-09-24\", \"Category\": \"Subtask\"},\n",
        "    {\"Task\": \"Outline Creation\", \"Start\": \"2024-10-03\", \"Finish\": \"2024-10-04\", \"Category\": \"Subtask\"},\n",
        "    {\"Task\": \"Draft: Introduction\", \"Start\": \"2024-10-05\", \"Finish\": \"2024-10-06\", \"Category\": \"Subtask\"},\n",
        "    {\"Task\": \"Draft: Methodology\", \"Start\": \"2024-10-07\", \"Finish\": \"2024-10-08\", \"Category\": \"Subtask\"},\n",
        "    {\"Task\": \"Draft: Literature Review\", \"Start\": \"2024-10-09\", \"Finish\": \"2024-10-10\", \"Category\": \"Subtask\"},\n",
        "    {\"Task\": \"Write: Applications\", \"Start\": \"2024-10-11\", \"Finish\": \"2024-10-12\", \"Category\": \"Subtask\"},\n",
        "    {\"Task\": \"Write: Benefits\", \"Start\": \"2024-10-13\", \"Finish\": \"2024-10-14\", \"Category\": \"Subtask\"},\n",
        "    {\"Task\": \"Write: Limitations\", \"Start\": \"2024-10-15\", \"Finish\": \"2024-10-16\", \"Category\": \"Subtask\"},\n",
        "    {\"Task\": \"Complete Main Content\", \"Start\": \"2024-10-17\", \"Finish\": \"2024-10-18\", \"Category\": \"Subtask\"},\n",
        "    {\"Task\": \"Edit: Clarity & Structure\", \"Start\": \"2024-10-19\", \"Finish\": \"2024-10-20\", \"Category\": \"Subtask\"},\n",
        "    {\"Task\": \"Edit: Citations & Language\", \"Start\": \"2024-10-21\", \"Finish\": \"2024-10-22\", \"Category\": \"Subtask\"},\n",
        "    {\"Task\": \"Final Review\", \"Start\": \"2024-10-23\", \"Finish\": \"2024-10-23\", \"Category\": \"Subtask\"}\n",
        "]\n",
        "\n",
        "# 创建DataFrame\n",
        "df = pd.DataFrame(tasks)\n",
        "\n",
        "# 使用 Plotly 生成甘特图\n",
        "fig = px.timeline(df, x_start=\"Start\", x_end=\"Finish\", y=\"Task\", color=\"Category\",\n",
        "                  title=\"Gantt Chart for Book Chapter: Large Foundation Models for Medical Imaging\",\n",
        "                  category_orders={\"Category\": [\"Main\", \"Subtask\"]})\n",
        "\n",
        "# 设置图形美观\n",
        "fig.update_yaxes(categoryorder=\"total ascending\")\n",
        "fig.update_xaxes(rangeslider_visible=True)\n",
        "fig.update_layout(showlegend=True, bargap=0.2)\n",
        "\n",
        "# 显示图形\n",
        "fig.show()\n"
      ],
      "metadata": {
        "colab": {
          "base_uri": "https://localhost:8080/",
          "height": 542
        },
        "id": "4D5NAt5Pborg",
        "outputId": "892e868c-323c-4418-8a4a-ae16459d4c01"
      },
      "execution_count": 3,
      "outputs": [
        {
          "output_type": "display_data",
          "data": {
            "text/html": [
              "<html>\n",
              "<head><meta charset=\"utf-8\" /></head>\n",
              "<body>\n",
              "    <div>            <script src=\"https://cdnjs.cloudflare.com/ajax/libs/mathjax/2.7.5/MathJax.js?config=TeX-AMS-MML_SVG\"></script><script type=\"text/javascript\">if (window.MathJax && window.MathJax.Hub && window.MathJax.Hub.Config) {window.MathJax.Hub.Config({SVG: {font: \"STIX-Web\"}});}</script>                <script type=\"text/javascript\">window.PlotlyConfig = {MathJaxConfig: 'local'};</script>\n",
              "        <script charset=\"utf-8\" src=\"https://cdn.plot.ly/plotly-2.35.2.min.js\"></script>                <div id=\"72b361dc-ba29-4056-8678-c143fae9b412\" class=\"plotly-graph-div\" style=\"height:525px; width:100%;\"></div>            <script type=\"text/javascript\">                                    window.PLOTLYENV=window.PLOTLYENV || {};                                    if (document.getElementById(\"72b361dc-ba29-4056-8678-c143fae9b412\")) {                    Plotly.newPlot(                        \"72b361dc-ba29-4056-8678-c143fae9b412\",                        [{\"alignmentgroup\":\"True\",\"base\":[\"2024-09-15\",\"2024-10-03\",\"2024-10-11\",\"2024-10-19\",\"2024-10-23\"],\"hovertemplate\":\"Category=Main\\u003cbr\\u003eStart=%{base}\\u003cbr\\u003eFinish=%{x}\\u003cbr\\u003eTask=%{y}\\u003cextra\\u003e\\u003c\\u002fextra\\u003e\",\"legendgroup\":\"Main\",\"marker\":{\"color\":\"#636efa\",\"pattern\":{\"shape\":\"\"}},\"name\":\"Main\",\"offsetgroup\":\"Main\",\"orientation\":\"h\",\"showlegend\":true,\"textposition\":\"auto\",\"x\":[1468800000.0,604800000.0,604800000.0,259200000.0,0.0],\"xaxis\":\"x\",\"y\":[\"Literature Collection\",\"Draft\",\"Writing\",\"Editing\",\"Final Review\"],\"yaxis\":\"y\",\"type\":\"bar\"},{\"alignmentgroup\":\"True\",\"base\":[\"2024-09-15\",\"2024-09-17\",\"2024-09-19\",\"2024-09-21\",\"2024-09-23\",\"2024-10-03\",\"2024-10-05\",\"2024-10-07\",\"2024-10-09\",\"2024-10-11\",\"2024-10-13\",\"2024-10-15\",\"2024-10-17\",\"2024-10-19\",\"2024-10-21\",\"2024-10-23\"],\"hovertemplate\":\"Category=Subtask\\u003cbr\\u003eStart=%{base}\\u003cbr\\u003eFinish=%{x}\\u003cbr\\u003eTask=%{y}\\u003cextra\\u003e\\u003c\\u002fextra\\u003e\",\"legendgroup\":\"Subtask\",\"marker\":{\"color\":\"#EF553B\",\"pattern\":{\"shape\":\"\"}},\"name\":\"Subtask\",\"offsetgroup\":\"Subtask\",\"orientation\":\"h\",\"showlegend\":true,\"textposition\":\"auto\",\"x\":[86400000.0,86400000.0,86400000.0,86400000.0,86400000.0,86400000.0,86400000.0,86400000.0,86400000.0,86400000.0,86400000.0,86400000.0,86400000.0,86400000.0,86400000.0,0.0],\"xaxis\":\"x\",\"y\":[\"Foundation Literature\",\"Applications Literature\",\"Reading: Key Findings\",\"Reading: Novel Methods\",\"Summarize Findings\",\"Outline Creation\",\"Draft: Introduction\",\"Draft: Methodology\",\"Draft: Literature Review\",\"Write: Applications\",\"Write: Benefits\",\"Write: Limitations\",\"Complete Main Content\",\"Edit: Clarity & Structure\",\"Edit: Citations & Language\",\"Final Review\"],\"yaxis\":\"y\",\"type\":\"bar\"}],                        {\"template\":{\"data\":{\"histogram2dcontour\":[{\"type\":\"histogram2dcontour\",\"colorbar\":{\"outlinewidth\":0,\"ticks\":\"\"},\"colorscale\":[[0.0,\"#0d0887\"],[0.1111111111111111,\"#46039f\"],[0.2222222222222222,\"#7201a8\"],[0.3333333333333333,\"#9c179e\"],[0.4444444444444444,\"#bd3786\"],[0.5555555555555556,\"#d8576b\"],[0.6666666666666666,\"#ed7953\"],[0.7777777777777778,\"#fb9f3a\"],[0.8888888888888888,\"#fdca26\"],[1.0,\"#f0f921\"]]}],\"choropleth\":[{\"type\":\"choropleth\",\"colorbar\":{\"outlinewidth\":0,\"ticks\":\"\"}}],\"histogram2d\":[{\"type\":\"histogram2d\",\"colorbar\":{\"outlinewidth\":0,\"ticks\":\"\"},\"colorscale\":[[0.0,\"#0d0887\"],[0.1111111111111111,\"#46039f\"],[0.2222222222222222,\"#7201a8\"],[0.3333333333333333,\"#9c179e\"],[0.4444444444444444,\"#bd3786\"],[0.5555555555555556,\"#d8576b\"],[0.6666666666666666,\"#ed7953\"],[0.7777777777777778,\"#fb9f3a\"],[0.8888888888888888,\"#fdca26\"],[1.0,\"#f0f921\"]]}],\"heatmap\":[{\"type\":\"heatmap\",\"colorbar\":{\"outlinewidth\":0,\"ticks\":\"\"},\"colorscale\":[[0.0,\"#0d0887\"],[0.1111111111111111,\"#46039f\"],[0.2222222222222222,\"#7201a8\"],[0.3333333333333333,\"#9c179e\"],[0.4444444444444444,\"#bd3786\"],[0.5555555555555556,\"#d8576b\"],[0.6666666666666666,\"#ed7953\"],[0.7777777777777778,\"#fb9f3a\"],[0.8888888888888888,\"#fdca26\"],[1.0,\"#f0f921\"]]}],\"heatmapgl\":[{\"type\":\"heatmapgl\",\"colorbar\":{\"outlinewidth\":0,\"ticks\":\"\"},\"colorscale\":[[0.0,\"#0d0887\"],[0.1111111111111111,\"#46039f\"],[0.2222222222222222,\"#7201a8\"],[0.3333333333333333,\"#9c179e\"],[0.4444444444444444,\"#bd3786\"],[0.5555555555555556,\"#d8576b\"],[0.6666666666666666,\"#ed7953\"],[0.7777777777777778,\"#fb9f3a\"],[0.8888888888888888,\"#fdca26\"],[1.0,\"#f0f921\"]]}],\"contourcarpet\":[{\"type\":\"contourcarpet\",\"colorbar\":{\"outlinewidth\":0,\"ticks\":\"\"}}],\"contour\":[{\"type\":\"contour\",\"colorbar\":{\"outlinewidth\":0,\"ticks\":\"\"},\"colorscale\":[[0.0,\"#0d0887\"],[0.1111111111111111,\"#46039f\"],[0.2222222222222222,\"#7201a8\"],[0.3333333333333333,\"#9c179e\"],[0.4444444444444444,\"#bd3786\"],[0.5555555555555556,\"#d8576b\"],[0.6666666666666666,\"#ed7953\"],[0.7777777777777778,\"#fb9f3a\"],[0.8888888888888888,\"#fdca26\"],[1.0,\"#f0f921\"]]}],\"surface\":[{\"type\":\"surface\",\"colorbar\":{\"outlinewidth\":0,\"ticks\":\"\"},\"colorscale\":[[0.0,\"#0d0887\"],[0.1111111111111111,\"#46039f\"],[0.2222222222222222,\"#7201a8\"],[0.3333333333333333,\"#9c179e\"],[0.4444444444444444,\"#bd3786\"],[0.5555555555555556,\"#d8576b\"],[0.6666666666666666,\"#ed7953\"],[0.7777777777777778,\"#fb9f3a\"],[0.8888888888888888,\"#fdca26\"],[1.0,\"#f0f921\"]]}],\"mesh3d\":[{\"type\":\"mesh3d\",\"colorbar\":{\"outlinewidth\":0,\"ticks\":\"\"}}],\"scatter\":[{\"fillpattern\":{\"fillmode\":\"overlay\",\"size\":10,\"solidity\":0.2},\"type\":\"scatter\"}],\"parcoords\":[{\"type\":\"parcoords\",\"line\":{\"colorbar\":{\"outlinewidth\":0,\"ticks\":\"\"}}}],\"scatterpolargl\":[{\"type\":\"scatterpolargl\",\"marker\":{\"colorbar\":{\"outlinewidth\":0,\"ticks\":\"\"}}}],\"bar\":[{\"error_x\":{\"color\":\"#2a3f5f\"},\"error_y\":{\"color\":\"#2a3f5f\"},\"marker\":{\"line\":{\"color\":\"#E5ECF6\",\"width\":0.5},\"pattern\":{\"fillmode\":\"overlay\",\"size\":10,\"solidity\":0.2}},\"type\":\"bar\"}],\"scattergeo\":[{\"type\":\"scattergeo\",\"marker\":{\"colorbar\":{\"outlinewidth\":0,\"ticks\":\"\"}}}],\"scatterpolar\":[{\"type\":\"scatterpolar\",\"marker\":{\"colorbar\":{\"outlinewidth\":0,\"ticks\":\"\"}}}],\"histogram\":[{\"marker\":{\"pattern\":{\"fillmode\":\"overlay\",\"size\":10,\"solidity\":0.2}},\"type\":\"histogram\"}],\"scattergl\":[{\"type\":\"scattergl\",\"marker\":{\"colorbar\":{\"outlinewidth\":0,\"ticks\":\"\"}}}],\"scatter3d\":[{\"type\":\"scatter3d\",\"line\":{\"colorbar\":{\"outlinewidth\":0,\"ticks\":\"\"}},\"marker\":{\"colorbar\":{\"outlinewidth\":0,\"ticks\":\"\"}}}],\"scattermapbox\":[{\"type\":\"scattermapbox\",\"marker\":{\"colorbar\":{\"outlinewidth\":0,\"ticks\":\"\"}}}],\"scatterternary\":[{\"type\":\"scatterternary\",\"marker\":{\"colorbar\":{\"outlinewidth\":0,\"ticks\":\"\"}}}],\"scattercarpet\":[{\"type\":\"scattercarpet\",\"marker\":{\"colorbar\":{\"outlinewidth\":0,\"ticks\":\"\"}}}],\"carpet\":[{\"aaxis\":{\"endlinecolor\":\"#2a3f5f\",\"gridcolor\":\"white\",\"linecolor\":\"white\",\"minorgridcolor\":\"white\",\"startlinecolor\":\"#2a3f5f\"},\"baxis\":{\"endlinecolor\":\"#2a3f5f\",\"gridcolor\":\"white\",\"linecolor\":\"white\",\"minorgridcolor\":\"white\",\"startlinecolor\":\"#2a3f5f\"},\"type\":\"carpet\"}],\"table\":[{\"cells\":{\"fill\":{\"color\":\"#EBF0F8\"},\"line\":{\"color\":\"white\"}},\"header\":{\"fill\":{\"color\":\"#C8D4E3\"},\"line\":{\"color\":\"white\"}},\"type\":\"table\"}],\"barpolar\":[{\"marker\":{\"line\":{\"color\":\"#E5ECF6\",\"width\":0.5},\"pattern\":{\"fillmode\":\"overlay\",\"size\":10,\"solidity\":0.2}},\"type\":\"barpolar\"}],\"pie\":[{\"automargin\":true,\"type\":\"pie\"}]},\"layout\":{\"autotypenumbers\":\"strict\",\"colorway\":[\"#636efa\",\"#EF553B\",\"#00cc96\",\"#ab63fa\",\"#FFA15A\",\"#19d3f3\",\"#FF6692\",\"#B6E880\",\"#FF97FF\",\"#FECB52\"],\"font\":{\"color\":\"#2a3f5f\"},\"hovermode\":\"closest\",\"hoverlabel\":{\"align\":\"left\"},\"paper_bgcolor\":\"white\",\"plot_bgcolor\":\"#E5ECF6\",\"polar\":{\"bgcolor\":\"#E5ECF6\",\"angularaxis\":{\"gridcolor\":\"white\",\"linecolor\":\"white\",\"ticks\":\"\"},\"radialaxis\":{\"gridcolor\":\"white\",\"linecolor\":\"white\",\"ticks\":\"\"}},\"ternary\":{\"bgcolor\":\"#E5ECF6\",\"aaxis\":{\"gridcolor\":\"white\",\"linecolor\":\"white\",\"ticks\":\"\"},\"baxis\":{\"gridcolor\":\"white\",\"linecolor\":\"white\",\"ticks\":\"\"},\"caxis\":{\"gridcolor\":\"white\",\"linecolor\":\"white\",\"ticks\":\"\"}},\"coloraxis\":{\"colorbar\":{\"outlinewidth\":0,\"ticks\":\"\"}},\"colorscale\":{\"sequential\":[[0.0,\"#0d0887\"],[0.1111111111111111,\"#46039f\"],[0.2222222222222222,\"#7201a8\"],[0.3333333333333333,\"#9c179e\"],[0.4444444444444444,\"#bd3786\"],[0.5555555555555556,\"#d8576b\"],[0.6666666666666666,\"#ed7953\"],[0.7777777777777778,\"#fb9f3a\"],[0.8888888888888888,\"#fdca26\"],[1.0,\"#f0f921\"]],\"sequentialminus\":[[0.0,\"#0d0887\"],[0.1111111111111111,\"#46039f\"],[0.2222222222222222,\"#7201a8\"],[0.3333333333333333,\"#9c179e\"],[0.4444444444444444,\"#bd3786\"],[0.5555555555555556,\"#d8576b\"],[0.6666666666666666,\"#ed7953\"],[0.7777777777777778,\"#fb9f3a\"],[0.8888888888888888,\"#fdca26\"],[1.0,\"#f0f921\"]],\"diverging\":[[0,\"#8e0152\"],[0.1,\"#c51b7d\"],[0.2,\"#de77ae\"],[0.3,\"#f1b6da\"],[0.4,\"#fde0ef\"],[0.5,\"#f7f7f7\"],[0.6,\"#e6f5d0\"],[0.7,\"#b8e186\"],[0.8,\"#7fbc41\"],[0.9,\"#4d9221\"],[1,\"#276419\"]]},\"xaxis\":{\"gridcolor\":\"white\",\"linecolor\":\"white\",\"ticks\":\"\",\"title\":{\"standoff\":15},\"zerolinecolor\":\"white\",\"automargin\":true,\"zerolinewidth\":2},\"yaxis\":{\"gridcolor\":\"white\",\"linecolor\":\"white\",\"ticks\":\"\",\"title\":{\"standoff\":15},\"zerolinecolor\":\"white\",\"automargin\":true,\"zerolinewidth\":2},\"scene\":{\"xaxis\":{\"backgroundcolor\":\"#E5ECF6\",\"gridcolor\":\"white\",\"linecolor\":\"white\",\"showbackground\":true,\"ticks\":\"\",\"zerolinecolor\":\"white\",\"gridwidth\":2},\"yaxis\":{\"backgroundcolor\":\"#E5ECF6\",\"gridcolor\":\"white\",\"linecolor\":\"white\",\"showbackground\":true,\"ticks\":\"\",\"zerolinecolor\":\"white\",\"gridwidth\":2},\"zaxis\":{\"backgroundcolor\":\"#E5ECF6\",\"gridcolor\":\"white\",\"linecolor\":\"white\",\"showbackground\":true,\"ticks\":\"\",\"zerolinecolor\":\"white\",\"gridwidth\":2}},\"shapedefaults\":{\"line\":{\"color\":\"#2a3f5f\"}},\"annotationdefaults\":{\"arrowcolor\":\"#2a3f5f\",\"arrowhead\":0,\"arrowwidth\":1},\"geo\":{\"bgcolor\":\"white\",\"landcolor\":\"#E5ECF6\",\"subunitcolor\":\"white\",\"showland\":true,\"showlakes\":true,\"lakecolor\":\"white\"},\"title\":{\"x\":0.05},\"mapbox\":{\"style\":\"light\"}}},\"xaxis\":{\"anchor\":\"y\",\"domain\":[0.0,1.0],\"type\":\"date\",\"rangeslider\":{\"visible\":true}},\"yaxis\":{\"anchor\":\"x\",\"domain\":[0.0,1.0],\"title\":{\"text\":\"Task\"},\"categoryorder\":\"total ascending\"},\"legend\":{\"title\":{\"text\":\"Category\"},\"tracegroupgap\":0},\"title\":{\"text\":\"Gantt Chart for Book Chapter: Large Foundation Models for Medical Imaging\"},\"barmode\":\"overlay\",\"showlegend\":true,\"bargap\":0.2},                        {\"responsive\": true}                    ).then(function(){\n",
              "                            \n",
              "var gd = document.getElementById('72b361dc-ba29-4056-8678-c143fae9b412');\n",
              "var x = new MutationObserver(function (mutations, observer) {{\n",
              "        var display = window.getComputedStyle(gd).display;\n",
              "        if (!display || display === 'none') {{\n",
              "            console.log([gd, 'removed!']);\n",
              "            Plotly.purge(gd);\n",
              "            observer.disconnect();\n",
              "        }}\n",
              "}});\n",
              "\n",
              "// Listen for the removal of the full notebook cells\n",
              "var notebookContainer = gd.closest('#notebook-container');\n",
              "if (notebookContainer) {{\n",
              "    x.observe(notebookContainer, {childList: true});\n",
              "}}\n",
              "\n",
              "// Listen for the clearing of the current output cell\n",
              "var outputEl = gd.closest('.output');\n",
              "if (outputEl) {{\n",
              "    x.observe(outputEl, {childList: true});\n",
              "}}\n",
              "\n",
              "                        })                };                            </script>        </div>\n",
              "</body>\n",
              "</html>"
            ]
          },
          "metadata": {}
        }
      ]
    },
    {
      "cell_type": "code",
      "source": [
        "# 保存为 HTML 文件\n",
        "fig.write_html(\"gantt_chart.html\")"
      ],
      "metadata": {
        "id": "cQuQe5WPcaeV"
      },
      "execution_count": 8,
      "outputs": []
    }
  ]
}